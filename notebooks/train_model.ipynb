{
 "cells": [
  {
   "cell_type": "code",
   "execution_count": 1,
   "metadata": {},
   "outputs": [
    {
     "name": "stderr",
     "output_type": "stream",
     "text": [
      "2023-08-23 10:14:17.040196: I tensorflow/core/platform/cpu_feature_guard.cc:182] This TensorFlow binary is optimized to use available CPU instructions in performance-critical operations.\n",
      "To enable the following instructions: AVX2 AVX512F AVX512_VNNI FMA, in other operations, rebuild TensorFlow with the appropriate compiler flags.\n"
     ]
    }
   ],
   "source": [
    "import numpy as np\n",
    "import pandas as pd\n",
    "import tensorflow as tf\n",
    "from keras.models import Sequential\n",
    "from keras.layers import Conv2D, MaxPooling2D, Dense, Flatten"
   ]
  },
  {
   "cell_type": "code",
   "execution_count": 23,
   "metadata": {},
   "outputs": [],
   "source": [
    "# load data locally\n",
    "images = np.load(\"/Users/FranklinZhao/TensorFlowProjects/ImageBasedSneakerPrediction/data/cleaned/5000_images.npy\")\n",
    "images = images.astype(np.float32)\n",
    "images = images/255\n",
    "prices = np.load(\"/Users/FranklinZhao/TensorFlowProjects/ImageBasedSneakerPrediction/data/cleaned/5000_prices.npy\")\n",
    "\n",
    "data = tf.data.Dataset.from_tensor_slices((images, prices))"
   ]
  },
  {
   "cell_type": "code",
   "execution_count": 25,
   "metadata": {},
   "outputs": [],
   "source": [
    "import boto3\n",
    "import io\n",
    "import pickle\n",
    "\n",
    "# load data from s3\n",
    "s3_client = boto3.client('s3')\n",
    "\n",
    "img_df_data = io.BytesIO()\n",
    "s3_client.download_fileobj('sneaker-dataset', '5000_images.pkl', img_df_data)\n",
    "img_df_data.seek(0)\n",
    "images = pickle.load(img_df_data)\n",
    "images = np.stack(images)\n",
    "images = images.astype(np.float32)\n",
    "images = images/255\n",
    "\n",
    "prices_df_data = io.BytesIO()\n",
    "s3_client.download_fileobj('sneaker-dataset', '5000_prices.pkl', prices_df_data)\n",
    "prices_df_data.seek(0)\n",
    "prices = pickle.load(prices_df_data)\n",
    "\n",
    "data = tf.data.Dataset.from_tensor_slices((images, prices))\n"
   ]
  },
  {
   "cell_type": "code",
   "execution_count": null,
   "metadata": {},
   "outputs": [],
   "source": [
    "# split data\n",
    "train_size = int(len(data)*.7)\n",
    "val_size = int(len(data)*.2)\n",
    "test_size = int(len(data)*.1)\n",
    "\n",
    "train = data.take(train_size)\n",
    "val = data.skip(train_size).take(val_size)\n",
    "test = data.skip(train_size+val_size).take(test_size)"
   ]
  },
  {
   "cell_type": "code",
   "execution_count": null,
   "metadata": {},
   "outputs": [],
   "source": [
    "train = train.cache()\n",
    "train = train.shuffle(train_size)\n",
    "train = train.batch(80)\n",
    "train = train.prefetch(80)\n",
    "\n",
    "val = val.cache()\n",
    "val = val.shuffle(val_size)\n",
    "val = val.batch(80)\n",
    "val = val.prefetch(80)\n"
   ]
  },
  {
   "cell_type": "code",
   "execution_count": null,
   "metadata": {},
   "outputs": [],
   "source": [
    "model = Sequential()\n",
    "\n",
    "model.add(Conv2D(16, (3,3), 1, activation='relu', input_shape = (256, 256, 3)))\n",
    "model.add(MaxPooling2D())\n",
    "\n",
    "model.add(Conv2D(32, (3,3), 1, activation='relu'))\n",
    "model.add(MaxPooling2D())\n",
    "\n",
    "model.add(Conv2D(64, (3,3), 1, activation='relu'))\n",
    "model.add(MaxPooling2D())\n",
    "\n",
    "model.add(Flatten())\n",
    "\n",
    "model.add(Dense(64, activation='relu'))\n",
    "model.add(Dense(128, activation='relu'))\n",
    "model.add(Dense(256, activation='relu'))\n",
    "model.add(Dense(128, activation='relu'))\n",
    "\n",
    "model.add(Dense(1, activation = 'linear'))\n"
   ]
  },
  {
   "cell_type": "code",
   "execution_count": null,
   "metadata": {},
   "outputs": [],
   "source": [
    "model.compile('adam', tf.losses.MeanSquaredError())"
   ]
  },
  {
   "cell_type": "code",
   "execution_count": null,
   "metadata": {},
   "outputs": [],
   "source": [
    "model.summary()"
   ]
  },
  {
   "cell_type": "code",
   "execution_count": null,
   "metadata": {},
   "outputs": [],
   "source": [
    "hist = model.fit(train, epochs=40, validation_data=val)"
   ]
  },
  {
   "cell_type": "code",
   "execution_count": null,
   "metadata": {},
   "outputs": [],
   "source": [
    "model.save(\"/Users/FranklinZhao/TensorFlowProjects/ImageBasedSneakerPrediction/models/model_1.h5\")"
   ]
  }
 ],
 "metadata": {
  "kernelspec": {
   "display_name": ".venv",
   "language": "python",
   "name": "python3"
  },
  "language_info": {
   "codemirror_mode": {
    "name": "ipython",
    "version": 3
   },
   "file_extension": ".py",
   "mimetype": "text/x-python",
   "name": "python",
   "nbconvert_exporter": "python",
   "pygments_lexer": "ipython3",
   "version": "3.11.2"
  },
  "orig_nbformat": 4
 },
 "nbformat": 4,
 "nbformat_minor": 2
}
