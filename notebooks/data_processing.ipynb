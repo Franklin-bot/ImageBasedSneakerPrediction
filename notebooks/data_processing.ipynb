{
 "cells": [
  {
   "cell_type": "code",
   "execution_count": null,
   "metadata": {},
   "outputs": [],
   "source": [
    "import pandas as pd\n",
    "import numpy as np\n",
    "import json\n",
    "from tqdm.auto import tqdm\n",
    "from tqdm import tqdm"
   ]
  },
  {
   "cell_type": "code",
   "execution_count": null,
   "metadata": {},
   "outputs": [],
   "source": [
    "# open raw data\n",
    "file_path = \"/Users/FranklinZhao/TensorFlowProjects/ImageBasedSneakerPrediction/data/raw/5000_output.csv\"\n",
    "df_ori= pd.read_csv(filepath_or_buffer=file_path, sep='\\t', index_col=0)\n",
    "df = df_ori.copy()"
   ]
  },
  {
   "cell_type": "code",
   "execution_count": null,
   "metadata": {},
   "outputs": [],
   "source": [
    "# remove unnecessary data\n",
    "cols_to_drop = ['urlKey', 'id', 'name', 'description', 'model', 'market', 'condition', 'productCategory', 'listingType', 'browseVerticals', 'favorite', 'variants']\n",
    "df = df.drop(cols_to_drop, axis=1)\n",
    "\n",
    "# remove rows with missing data\n",
    "df = df.dropna(axis=0, how='any')"
   ]
  },
  {
   "cell_type": "code",
   "execution_count": null,
   "metadata": {},
   "outputs": [],
   "source": [
    "# clean to extract image url and retail price\n",
    "def cleanImageUrl(url):\n",
    "    return (url.split('.jpg')[0]) + '.jpg'\n",
    "\n",
    "df['imageUrl'] = df['media'].apply(lambda x: (json.loads(x.replace(\"\\'\", \"\\\"\")))[\"thumbUrl\"])\n",
    "df['imageUrl'] = df['imageUrl'].apply(cleanImageUrl)\n",
    "\n",
    "df['retailPrice'] = df['productTraits'].apply(lambda x: (json.loads(x.replace(\"\\'\", \"\\\"\"))[0][\"value\"]))\n",
    "df = df.drop(['media', 'productTraits'], axis=1)"
   ]
  },
  {
   "cell_type": "code",
   "execution_count": null,
   "metadata": {},
   "outputs": [],
   "source": [
    "import asyncio\n",
    "import aiohttp\n",
    "import cv2\n",
    "import numpy as np\n",
    "from tqdm.asyncio import tqdm_asyncio\n",
    "import nest_asyncio\n",
    "nest_asyncio.apply()\n",
    "\n",
    "async def openImage(url, session):\n",
    "    async with session.get(url) as response:\n",
    "        image = await response.read()\n",
    "        image_np = np.asarray(bytearray(image), dtype=\"uint8\")\n",
    "        image = cv2.imdecode(image_np, cv2.IMREAD_COLOR)\n",
    "        image_np = None\n",
    "        image = cv2.resize(image, (128, 128), interpolation=cv2.INTER_AREA)\n",
    "        return image\n",
    "\n",
    "async def process_images(urls):\n",
    "    async with aiohttp.ClientSession() as session:\n",
    "        tasks = []\n",
    "        for url in urls:\n",
    "            task = asyncio.create_task(openImage(url, session))\n",
    "            tasks.append(task)\n",
    "        results = await tqdm_asyncio.gather(*tasks)\n",
    "    return results\n",
    "\n",
    "async def main(df):\n",
    "    img_urls = df['imageUrl'].tolist()\n",
    "    result_images = await process_images(img_urls)\n",
    "    return result_images\n",
    "\n",
    "if __name__ == \"__main__\":\n",
    "    img_df = asyncio.run(main(df))\n"
   ]
  },
  {
   "cell_type": "code",
   "execution_count": null,
   "metadata": {},
   "outputs": [],
   "source": [
    "np.save(\"/Users/FranklinZhao/TensorFlowProjects/ImageBasedSneakerPrediction/data/cleaned/5000_images\", img_df)"
   ]
  },
  {
   "cell_type": "code",
   "execution_count": null,
   "metadata": {},
   "outputs": [],
   "source": [
    "prices_df = np.asarray(df['last sale'])\n",
    "np.save(\"/Users/FranklinZhao/TensorFlowProjects/ImageBasedSneakerPrediction/data/cleaned/5000_prices\", prices_df)"
   ]
  },
  {
   "cell_type": "code",
   "execution_count": null,
   "metadata": {},
   "outputs": [],
   "source": []
  },
  {
   "cell_type": "code",
   "execution_count": null,
   "metadata": {},
   "outputs": [],
   "source": []
  }
 ],
 "metadata": {
  "kernelspec": {
   "display_name": ".venv",
   "language": "python",
   "name": "python3"
  },
  "language_info": {
   "codemirror_mode": {
    "name": "ipython",
    "version": 3
   },
   "file_extension": ".py",
   "mimetype": "text/x-python",
   "name": "python",
   "nbconvert_exporter": "python",
   "pygments_lexer": "ipython3",
   "version": "3.11.2"
  },
  "orig_nbformat": 4
 },
 "nbformat": 4,
 "nbformat_minor": 2
}
