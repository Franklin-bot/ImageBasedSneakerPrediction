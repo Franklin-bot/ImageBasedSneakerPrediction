{
 "cells": [
  {
   "cell_type": "code",
   "execution_count": 2,
   "metadata": {},
   "outputs": [
    {
     "name": "stderr",
     "output_type": "stream",
     "text": [
      "/Users/FranklinZhao/TensorFlowProjects/ImageBasedSneakerPrediction/.venv/lib/python3.11/site-packages/tqdm/auto.py:21: TqdmWarning: IProgress not found. Please update jupyter and ipywidgets. See https://ipywidgets.readthedocs.io/en/stable/user_install.html\n",
      "  from .autonotebook import tqdm as notebook_tqdm\n"
     ]
    }
   ],
   "source": [
    "import pandas as pd\n",
    "import numpy as np\n",
    "import json\n",
    "import requests\n",
    "import cv2\n",
    "from tqdm.auto import tqdm\n",
    "from tqdm import tqdm"
   ]
  },
  {
   "cell_type": "code",
   "execution_count": 3,
   "metadata": {},
   "outputs": [],
   "source": [
    "# open raw data\n",
    "file_path = \"/Users/FranklinZhao/TensorFlowProjects/ImageBasedSneakerPrediction/data/rawoutput.csv\"\n",
    "df_ori= pd.read_csv(filepath_or_buffer=file_path, sep='\\t', index_col=0)\n",
    "df = df_ori.copy()"
   ]
  },
  {
   "cell_type": "code",
   "execution_count": 4,
   "metadata": {},
   "outputs": [],
   "source": [
    "# remove unnecessary data\n",
    "cols_to_drop = ['urlKey', 'id', 'name', 'description', 'model', 'market', 'condition', 'productCategory', 'listingType', 'browseVerticals', 'favorite', 'variants']\n",
    "df = df.drop(cols_to_drop, axis=1)\n",
    "\n",
    "# remove rows with missing data\n",
    "df = df.dropna(axis=0, how='any')"
   ]
  },
  {
   "cell_type": "code",
   "execution_count": 5,
   "metadata": {},
   "outputs": [],
   "source": [
    "# clean to extract image url and retail price\n",
    "def cleanImageUrl(url):\n",
    "    return (url.split('.jpg')[0]) + '.jpg'\n",
    "\n",
    "df['imageUrl'] = df['media'].apply(lambda x: (json.loads(x.replace(\"\\'\", \"\\\"\")))[\"thumbUrl\"])\n",
    "df['imageUrl'] = df['imageUrl'].apply(cleanImageUrl)\n",
    "\n",
    "df['retailPrice'] = df['productTraits'].apply(lambda x: (json.loads(x.replace(\"\\'\", \"\\\"\"))[0][\"value\"]))\n",
    "df = df.drop(['media', 'productTraits'], axis=1)"
   ]
  },
  {
   "cell_type": "code",
   "execution_count": 20,
   "metadata": {},
   "outputs": [
    {
     "name": "stderr",
     "output_type": "stream",
     "text": [
      "100%|██████████| 1040/1040 [02:09<00:00,  8.01it/s]\n"
     ]
    }
   ],
   "source": [
    "tqdm.pandas()\n",
    "\n",
    "def openImage(url):\n",
    "    response = requests.get(url, stream=True).raw\n",
    "    image = np.asarray(bytearray(response.read()), dtype=\"uint8\")\n",
    "    return cv2.imdecode(image, cv2.IMREAD_COLOR)\n",
    "\n",
    "img_df = pd.DataFrame(df['imageUrl'].progress_apply(openImage))"
   ]
  },
  {
   "cell_type": "code",
   "execution_count": 14,
   "metadata": {},
   "outputs": [
    {
     "name": "stderr",
     "output_type": "stream",
     "text": [
      "100%|██████████| 1040/1040 [00:23<00:00, 44.51it/s]\n"
     ]
    }
   ],
   "source": [
    "import asyncio\n",
    "import aiohttp\n",
    "import cv2\n",
    "import numpy as np\n",
    "from tqdm.asyncio import tqdm_asyncio\n",
    "import nest_asyncio\n",
    "nest_asyncio.apply()\n",
    "\n",
    "async def openImage(url, session):\n",
    "    async with session.get(url) as response:\n",
    "        image = await response.read()\n",
    "        image = np.asarray(bytearray(image), dtype=\"uint8\")\n",
    "        return cv2.imdecode(image, cv2.IMREAD_COLOR)\n",
    "\n",
    "async def process_images(urls):\n",
    "    async with aiohttp.ClientSession() as session:\n",
    "        tasks = []\n",
    "        for url in urls:\n",
    "            task = asyncio.create_task(openImage(url, session))\n",
    "            tasks.append(task)\n",
    "        results = await tqdm_asyncio.gather(*tasks)\n",
    "        return results\n",
    "\n",
    "async def main(df):\n",
    "    img_urls = df['imageUrl'].tolist()\n",
    "    result_images = await process_images(img_urls)\n",
    "    return result_images\n",
    "\n",
    "if __name__ == \"__main__\":\n",
    "    asyncio.run(main(df))\n"
   ]
  },
  {
   "cell_type": "code",
   "execution_count": null,
   "metadata": {},
   "outputs": [],
   "source": []
  },
  {
   "cell_type": "code",
   "execution_count": null,
   "metadata": {},
   "outputs": [],
   "source": []
  }
 ],
 "metadata": {
  "kernelspec": {
   "display_name": ".venv",
   "language": "python",
   "name": "python3"
  },
  "language_info": {
   "codemirror_mode": {
    "name": "ipython",
    "version": 3
   },
   "file_extension": ".py",
   "mimetype": "text/x-python",
   "name": "python",
   "nbconvert_exporter": "python",
   "pygments_lexer": "ipython3",
   "version": "3.11.2"
  },
  "orig_nbformat": 4
 },
 "nbformat": 4,
 "nbformat_minor": 2
}
