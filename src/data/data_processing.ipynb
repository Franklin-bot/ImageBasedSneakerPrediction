{
 "cells": [
  {
   "cell_type": "code",
   "execution_count": 1,
   "metadata": {},
   "outputs": [
    {
     "name": "stderr",
     "output_type": "stream",
     "text": [
      "/Users/FranklinZhao/TensorFlowProjects/ImageBasedSneakerPrediction/.venv/lib/python3.11/site-packages/tqdm/auto.py:21: TqdmWarning: IProgress not found. Please update jupyter and ipywidgets. See https://ipywidgets.readthedocs.io/en/stable/user_install.html\n",
      "  from .autonotebook import tqdm as notebook_tqdm\n",
      "2023-08-12 13:40:42.729582: I tensorflow/core/platform/cpu_feature_guard.cc:182] This TensorFlow binary is optimized to use available CPU instructions in performance-critical operations.\n",
      "To enable the following instructions: AVX2 AVX512F AVX512_VNNI FMA, in other operations, rebuild TensorFlow with the appropriate compiler flags.\n"
     ]
    }
   ],
   "source": [
    "import pandas as pd\n",
    "import numpy as np\n",
    "import json\n",
    "from tqdm.auto import tqdm\n",
    "from tqdm import tqdm"
   ]
  },
  {
   "cell_type": "code",
   "execution_count": 2,
   "metadata": {},
   "outputs": [],
   "source": [
    "# open raw data\n",
    "file_path = \"/Users/FranklinZhao/TensorFlowProjects/ImageBasedSneakerPrediction/data/rawoutput.csv\"\n",
    "df_ori= pd.read_csv(filepath_or_buffer=file_path, sep='\\t', index_col=0)\n",
    "df = df_ori.copy()"
   ]
  },
  {
   "cell_type": "code",
   "execution_count": 3,
   "metadata": {},
   "outputs": [],
   "source": [
    "# remove unnecessary data\n",
    "cols_to_drop = ['urlKey', 'id', 'name', 'description', 'model', 'market', 'condition', 'productCategory', 'listingType', 'browseVerticals', 'favorite', 'variants']\n",
    "df = df.drop(cols_to_drop, axis=1)\n",
    "\n",
    "# remove rows with missing data\n",
    "df = df.dropna(axis=0, how='any')"
   ]
  },
  {
   "cell_type": "code",
   "execution_count": 4,
   "metadata": {},
   "outputs": [],
   "source": [
    "# clean to extract image url and retail price\n",
    "def cleanImageUrl(url):\n",
    "    return (url.split('.jpg')[0]) + '.jpg'\n",
    "\n",
    "df['imageUrl'] = df['media'].apply(lambda x: (json.loads(x.replace(\"\\'\", \"\\\"\")))[\"thumbUrl\"])\n",
    "df['imageUrl'] = df['imageUrl'].apply(cleanImageUrl)\n",
    "\n",
    "df['retailPrice'] = df['productTraits'].apply(lambda x: (json.loads(x.replace(\"\\'\", \"\\\"\"))[0][\"value\"]))\n",
    "df = df.drop(['media', 'productTraits'], axis=1)"
   ]
  },
  {
   "cell_type": "code",
   "execution_count": 5,
   "metadata": {},
   "outputs": [
    {
     "name": "stderr",
     "output_type": "stream",
     "text": [
      "100%|██████████| 1040/1040 [00:33<00:00, 30.84it/s]\n"
     ]
    }
   ],
   "source": [
    "import asyncio\n",
    "import aiohttp\n",
    "import cv2\n",
    "import numpy as np\n",
    "from tqdm.asyncio import tqdm_asyncio\n",
    "import nest_asyncio\n",
    "nest_asyncio.apply()\n",
    "\n",
    "async def openImage(url, session):\n",
    "    async with session.get(url) as response:\n",
    "        image = await response.read()\n",
    "        image = np.asarray(bytearray(image), dtype=\"uint8\")\n",
    "        image = cv2.imdecode(image, cv2.IMREAD_COLOR)\n",
    "        image = cv2.resize(image, (256, 256), interpolation=cv2.INTER_AREA)\n",
    "        image = image/255.0\n",
    "        return image\n",
    "\n",
    "async def process_images(urls):\n",
    "    async with aiohttp.ClientSession() as session:\n",
    "        tasks = []\n",
    "        for url in urls:\n",
    "            task = asyncio.create_task(openImage(url, session))\n",
    "            tasks.append(task)\n",
    "        results = await tqdm_asyncio.gather(*tasks)\n",
    "        return results\n",
    "\n",
    "async def main(df):\n",
    "    img_urls = df['imageUrl'].tolist()\n",
    "    result_images = await process_images(img_urls)\n",
    "    return result_images\n",
    "\n",
    "if __name__ == \"__main__\":\n",
    "    img_df = asyncio.run(main(df))\n"
   ]
  },
  {
   "cell_type": "code",
   "execution_count": 6,
   "metadata": {},
   "outputs": [],
   "source": [
    "np.save(\"/Users/FranklinZhao/TensorFlowProjects/ImageBasedSneakerPrediction/data/cleaned/images\", img_df)"
   ]
  },
  {
   "cell_type": "code",
   "execution_count": 9,
   "metadata": {},
   "outputs": [],
   "source": [
    "prices_df = np.asarray(df['last sale'])\n",
    "np.save(\"/Users/FranklinZhao/TensorFlowProjects/ImageBasedSneakerPrediction/data/cleaned/prices\", prices_df)"
   ]
  },
  {
   "cell_type": "code",
   "execution_count": 10,
   "metadata": {},
   "outputs": [
    {
     "data": {
      "text/html": [
       "<div>\n",
       "<style scoped>\n",
       "    .dataframe tbody tr th:only-of-type {\n",
       "        vertical-align: middle;\n",
       "    }\n",
       "\n",
       "    .dataframe tbody tr th {\n",
       "        vertical-align: top;\n",
       "    }\n",
       "\n",
       "    .dataframe thead th {\n",
       "        text-align: right;\n",
       "    }\n",
       "</style>\n",
       "<table border=\"1\" class=\"dataframe\">\n",
       "  <thead>\n",
       "    <tr style=\"text-align: right;\">\n",
       "      <th></th>\n",
       "      <th>title</th>\n",
       "      <th>brand</th>\n",
       "      <th>gender</th>\n",
       "      <th>last sale</th>\n",
       "      <th>imageUrl</th>\n",
       "      <th>retailPrice</th>\n",
       "    </tr>\n",
       "  </thead>\n",
       "  <tbody>\n",
       "    <tr>\n",
       "      <th>0</th>\n",
       "      <td>Mihara Yasuhiro Hank OG Sole Canvas Low Black</td>\n",
       "      <td>Mihara Yasuhiro</td>\n",
       "      <td>men</td>\n",
       "      <td>323</td>\n",
       "      <td>https://images.stockx.com/images/Mihara-Yasuhi...</td>\n",
       "      <td>220</td>\n",
       "    </tr>\n",
       "    <tr>\n",
       "      <th>1</th>\n",
       "      <td>Mihara Yasuhiro Blakey OG Sole Canvas Low Black</td>\n",
       "      <td>Mihara Yasuhiro</td>\n",
       "      <td>men</td>\n",
       "      <td>278</td>\n",
       "      <td>https://images.stockx.com/images/Mihara-Yasuhi...</td>\n",
       "      <td>220</td>\n",
       "    </tr>\n",
       "    <tr>\n",
       "      <th>2</th>\n",
       "      <td>Louis Vuitton LV Trainer White Black</td>\n",
       "      <td>Louis Vuitton</td>\n",
       "      <td>men</td>\n",
       "      <td>1130</td>\n",
       "      <td>https://images.stockx.com/images/Louis-Vuitton...</td>\n",
       "      <td>1220</td>\n",
       "    </tr>\n",
       "    <tr>\n",
       "      <th>3</th>\n",
       "      <td>Jordan 1 Mid Sneaker School Game Winner (GS)</td>\n",
       "      <td>Jordan</td>\n",
       "      <td>child</td>\n",
       "      <td>94</td>\n",
       "      <td>https://images.stockx.com/images/Air-Jordan-1-...</td>\n",
       "      <td>120</td>\n",
       "    </tr>\n",
       "    <tr>\n",
       "      <th>4</th>\n",
       "      <td>Burberry Regis Archive Beige White</td>\n",
       "      <td>Burberry</td>\n",
       "      <td>men</td>\n",
       "      <td>456</td>\n",
       "      <td>https://images.stockx.com/images/Burberry-Regi...</td>\n",
       "      <td>770</td>\n",
       "    </tr>\n",
       "    <tr>\n",
       "      <th>...</th>\n",
       "      <td>...</td>\n",
       "      <td>...</td>\n",
       "      <td>...</td>\n",
       "      <td>...</td>\n",
       "      <td>...</td>\n",
       "      <td>...</td>\n",
       "    </tr>\n",
       "    <tr>\n",
       "      <th>1035</th>\n",
       "      <td>Dior B23 Low Top Logo Oblique</td>\n",
       "      <td>Dior</td>\n",
       "      <td>men</td>\n",
       "      <td>980</td>\n",
       "      <td>https://images.stockx.com/images/Dior-B23-Low-...</td>\n",
       "      <td>950</td>\n",
       "    </tr>\n",
       "    <tr>\n",
       "      <th>1036</th>\n",
       "      <td>Jordan 1 Mid Sneakersnstuff 20th Anniversary</td>\n",
       "      <td>Jordan</td>\n",
       "      <td>men</td>\n",
       "      <td>129</td>\n",
       "      <td>https://images.stockx.com/images/Air-Jordan-1-...</td>\n",
       "      <td>140</td>\n",
       "    </tr>\n",
       "    <tr>\n",
       "      <th>1037</th>\n",
       "      <td>Nike Air Max 1 SNKRS Day Brown</td>\n",
       "      <td>Nike</td>\n",
       "      <td>men</td>\n",
       "      <td>277</td>\n",
       "      <td>https://images.stockx.com/images/Nike-Air-Max-...</td>\n",
       "      <td>140</td>\n",
       "    </tr>\n",
       "    <tr>\n",
       "      <th>1038</th>\n",
       "      <td>Lanvin Curb Sneaker White Multicolor</td>\n",
       "      <td>Lanvin</td>\n",
       "      <td>men</td>\n",
       "      <td>399</td>\n",
       "      <td>https://images.stockx.com/images/Lanvin-Curb-S...</td>\n",
       "      <td>890</td>\n",
       "    </tr>\n",
       "    <tr>\n",
       "      <th>1039</th>\n",
       "      <td>Nike Air Huarache SNKRS Day</td>\n",
       "      <td>Nike</td>\n",
       "      <td>men</td>\n",
       "      <td>139</td>\n",
       "      <td>https://images.stockx.com/images/Nike-Air-Huar...</td>\n",
       "      <td>120</td>\n",
       "    </tr>\n",
       "  </tbody>\n",
       "</table>\n",
       "<p>1040 rows × 6 columns</p>\n",
       "</div>"
      ],
      "text/plain": [
       "                                                title            brand gender  \\\n",
       "0       Mihara Yasuhiro Hank OG Sole Canvas Low Black  Mihara Yasuhiro    men   \n",
       "1     Mihara Yasuhiro Blakey OG Sole Canvas Low Black  Mihara Yasuhiro    men   \n",
       "2                Louis Vuitton LV Trainer White Black    Louis Vuitton    men   \n",
       "3        Jordan 1 Mid Sneaker School Game Winner (GS)           Jordan  child   \n",
       "4                  Burberry Regis Archive Beige White         Burberry    men   \n",
       "...                                               ...              ...    ...   \n",
       "1035                    Dior B23 Low Top Logo Oblique             Dior    men   \n",
       "1036     Jordan 1 Mid Sneakersnstuff 20th Anniversary           Jordan    men   \n",
       "1037                   Nike Air Max 1 SNKRS Day Brown             Nike    men   \n",
       "1038             Lanvin Curb Sneaker White Multicolor           Lanvin    men   \n",
       "1039                      Nike Air Huarache SNKRS Day             Nike    men   \n",
       "\n",
       "      last sale                                           imageUrl retailPrice  \n",
       "0           323  https://images.stockx.com/images/Mihara-Yasuhi...         220  \n",
       "1           278  https://images.stockx.com/images/Mihara-Yasuhi...         220  \n",
       "2          1130  https://images.stockx.com/images/Louis-Vuitton...        1220  \n",
       "3            94  https://images.stockx.com/images/Air-Jordan-1-...         120  \n",
       "4           456  https://images.stockx.com/images/Burberry-Regi...         770  \n",
       "...         ...                                                ...         ...  \n",
       "1035        980  https://images.stockx.com/images/Dior-B23-Low-...         950  \n",
       "1036        129  https://images.stockx.com/images/Air-Jordan-1-...         140  \n",
       "1037        277  https://images.stockx.com/images/Nike-Air-Max-...         140  \n",
       "1038        399  https://images.stockx.com/images/Lanvin-Curb-S...         890  \n",
       "1039        139  https://images.stockx.com/images/Nike-Air-Huar...         120  \n",
       "\n",
       "[1040 rows x 6 columns]"
      ]
     },
     "execution_count": 10,
     "metadata": {},
     "output_type": "execute_result"
    }
   ],
   "source": [
    "df"
   ]
  },
  {
   "cell_type": "code",
   "execution_count": null,
   "metadata": {},
   "outputs": [],
   "source": []
  }
 ],
 "metadata": {
  "kernelspec": {
   "display_name": ".venv",
   "language": "python",
   "name": "python3"
  },
  "language_info": {
   "codemirror_mode": {
    "name": "ipython",
    "version": 3
   },
   "file_extension": ".py",
   "mimetype": "text/x-python",
   "name": "python",
   "nbconvert_exporter": "python",
   "pygments_lexer": "ipython3",
   "version": "3.11.2"
  },
  "orig_nbformat": 4
 },
 "nbformat": 4,
 "nbformat_minor": 2
}
