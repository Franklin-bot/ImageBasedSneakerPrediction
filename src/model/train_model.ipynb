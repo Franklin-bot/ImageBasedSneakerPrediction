{
 "cells": [
  {
   "cell_type": "code",
   "execution_count": 2,
   "metadata": {},
   "outputs": [
    {
     "name": "stderr",
     "output_type": "stream",
     "text": [
      "2023-08-18 15:19:00.388929: I tensorflow/core/platform/cpu_feature_guard.cc:182] This TensorFlow binary is optimized to use available CPU instructions in performance-critical operations.\n",
      "To enable the following instructions: AVX2 AVX512F AVX512_VNNI FMA, in other operations, rebuild TensorFlow with the appropriate compiler flags.\n"
     ]
    }
   ],
   "source": [
    "import numpy as np\n",
    "import pandas as pd\n",
    "import tensorflow as tf\n",
    "from keras.models import Sequential\n",
    "from keras.layers import Conv2D, MaxPooling2D, Dense, Flatten"
   ]
  },
  {
   "cell_type": "code",
   "execution_count": 2,
   "metadata": {},
   "outputs": [],
   "source": [
    "# load data\n",
    "images = np.load(\"/Users/FranklinZhao/TensorFlowProjects/ImageBasedSneakerPrediction/data/cleaned/images.npy\")\n",
    "images = images.astype(np.float32)\n",
    "images = images/255\n",
    "prices = np.load(\"/Users/FranklinZhao/TensorFlowProjects/ImageBasedSneakerPrediction/data/cleaned/prices.npy\")\n",
    "\n",
    "data = tf.data.Dataset.from_tensor_slices((images, prices))"
   ]
  },
  {
   "cell_type": "code",
   "execution_count": 3,
   "metadata": {},
   "outputs": [],
   "source": [
    "# split data\n",
    "train_size = int(len(data)*.7)\n",
    "val_size = int(len(data)*.2)\n",
    "test_size = int(len(data)*.1)\n",
    "\n",
    "train = data.take(train_size)\n",
    "val = data.skip(train_size).take(val_size)\n",
    "test = data.skip(train_size+val_size).take(test_size)"
   ]
  },
  {
   "cell_type": "code",
   "execution_count": 4,
   "metadata": {},
   "outputs": [],
   "source": [
    "train = train.cache()\n",
    "train = train.shuffle(train_size)\n",
    "train = train.batch(80)\n",
    "train = train.prefetch(80)\n",
    "\n",
    "val = val.cache()\n",
    "val = val.shuffle(val_size)\n",
    "val = val.batch(80)\n",
    "val = val.prefetch(80)\n"
   ]
  },
  {
   "cell_type": "code",
   "execution_count": 3,
   "metadata": {},
   "outputs": [],
   "source": [
    "model = Sequential()\n",
    "\n",
    "model.add(Conv2D(16, (3,3), 1, activation='relu', input_shape = (256, 256, 3)))\n",
    "model.add(MaxPooling2D())\n",
    "\n",
    "model.add(Conv2D(32, (3,3), 1, activation='relu'))\n",
    "model.add(MaxPooling2D())\n",
    "\n",
    "model.add(Conv2D(64, (3,3), 1, activation='relu'))\n",
    "model.add(MaxPooling2D())\n",
    "\n",
    "model.add(Flatten())\n",
    "\n",
    "model.add(Dense(64, activation='relu'))\n",
    "model.add(Dense(128, activation='relu'))\n",
    "model.add(Dense(256, activation='relu'))\n",
    "model.add(Dense(128, activation='relu'))\n",
    "\n",
    "model.add(Dense(1, activation = 'linear'))\n"
   ]
  },
  {
   "cell_type": "code",
   "execution_count": 6,
   "metadata": {},
   "outputs": [],
   "source": [
    "model.compile('adam', tf.losses.MeanSquaredError())"
   ]
  },
  {
   "cell_type": "code",
   "execution_count": 7,
   "metadata": {},
   "outputs": [
    {
     "name": "stdout",
     "output_type": "stream",
     "text": [
      "Model: \"sequential\"\n",
      "_________________________________________________________________\n",
      " Layer (type)                Output Shape              Param #   \n",
      "=================================================================\n",
      " conv2d (Conv2D)             (None, 254, 254, 16)      448       \n",
      "                                                                 \n",
      " max_pooling2d (MaxPooling2  (None, 127, 127, 16)      0         \n",
      " D)                                                              \n",
      "                                                                 \n",
      " conv2d_1 (Conv2D)           (None, 125, 125, 32)      4640      \n",
      "                                                                 \n",
      " max_pooling2d_1 (MaxPoolin  (None, 62, 62, 32)        0         \n",
      " g2D)                                                            \n",
      "                                                                 \n",
      " conv2d_2 (Conv2D)           (None, 60, 60, 64)        18496     \n",
      "                                                                 \n",
      " max_pooling2d_2 (MaxPoolin  (None, 30, 30, 64)        0         \n",
      " g2D)                                                            \n",
      "                                                                 \n",
      " flatten (Flatten)           (None, 57600)             0         \n",
      "                                                                 \n",
      " dense (Dense)               (None, 64)                3686464   \n",
      "                                                                 \n",
      " dense_1 (Dense)             (None, 128)               8320      \n",
      "                                                                 \n",
      " dense_2 (Dense)             (None, 256)               33024     \n",
      "                                                                 \n",
      " dense_3 (Dense)             (None, 128)               32896     \n",
      "                                                                 \n",
      " dense_4 (Dense)             (None, 1)                 129       \n",
      "                                                                 \n",
      "=================================================================\n",
      "Total params: 3784417 (14.44 MB)\n",
      "Trainable params: 3784417 (14.44 MB)\n",
      "Non-trainable params: 0 (0.00 Byte)\n",
      "_________________________________________________________________\n"
     ]
    }
   ],
   "source": [
    "model.summary()"
   ]
  },
  {
   "cell_type": "code",
   "execution_count": 8,
   "metadata": {},
   "outputs": [
    {
     "name": "stdout",
     "output_type": "stream",
     "text": [
      "Epoch 1/40\n",
      "10/10 [==============================] - 25s 2s/step - loss: 494064.8750 - accuracy: 0.0000e+00 - val_loss: 326681.3750 - val_accuracy: 0.0000e+00\n",
      "Epoch 2/40\n",
      "10/10 [==============================] - 17s 2s/step - loss: 297586.7812 - accuracy: 0.0000e+00 - val_loss: 283984.0938 - val_accuracy: 0.0000e+00\n",
      "Epoch 3/40\n",
      "10/10 [==============================] - 21s 2s/step - loss: 285224.4688 - accuracy: 0.0000e+00 - val_loss: 302803.0312 - val_accuracy: 0.0000e+00\n",
      "Epoch 4/40\n",
      "10/10 [==============================] - 23s 2s/step - loss: 285297.6562 - accuracy: 0.0000e+00 - val_loss: 261281.3281 - val_accuracy: 0.0000e+00\n",
      "Epoch 5/40\n",
      "10/10 [==============================] - 19s 2s/step - loss: 245801.3906 - accuracy: 0.0000e+00 - val_loss: 207143.7188 - val_accuracy: 0.0000e+00\n",
      "Epoch 6/40\n",
      "10/10 [==============================] - 20s 2s/step - loss: 195365.7344 - accuracy: 0.0000e+00 - val_loss: 180453.1094 - val_accuracy: 0.0000e+00\n",
      "Epoch 7/40\n",
      "10/10 [==============================] - 16s 2s/step - loss: 161345.5000 - accuracy: 0.0000e+00 - val_loss: 154418.2500 - val_accuracy: 0.0000e+00\n",
      "Epoch 8/40\n",
      "10/10 [==============================] - 17s 2s/step - loss: 125469.6562 - accuracy: 0.0000e+00 - val_loss: 96219.4844 - val_accuracy: 0.0000e+00\n",
      "Epoch 9/40\n",
      "10/10 [==============================] - 22s 2s/step - loss: 89364.1172 - accuracy: 0.0000e+00 - val_loss: 83015.0391 - val_accuracy: 0.0000e+00\n",
      "Epoch 10/40\n",
      "10/10 [==============================] - 22s 2s/step - loss: 68719.8359 - accuracy: 0.0000e+00 - val_loss: 66278.8906 - val_accuracy: 0.0000e+00\n",
      "Epoch 11/40\n",
      "10/10 [==============================] - 20s 2s/step - loss: 57994.1172 - accuracy: 0.0000e+00 - val_loss: 47379.2930 - val_accuracy: 0.0000e+00\n",
      "Epoch 12/40\n",
      "10/10 [==============================] - 17s 2s/step - loss: 41301.7773 - accuracy: 0.0000e+00 - val_loss: 35409.3828 - val_accuracy: 0.0000e+00\n",
      "Epoch 13/40\n",
      "10/10 [==============================] - 16s 2s/step - loss: 32322.0762 - accuracy: 0.0000e+00 - val_loss: 29415.5352 - val_accuracy: 0.0000e+00\n",
      "Epoch 14/40\n",
      "10/10 [==============================] - 15s 2s/step - loss: 24907.3301 - accuracy: 0.0000e+00 - val_loss: 24874.9473 - val_accuracy: 0.0000e+00\n",
      "Epoch 15/40\n",
      "10/10 [==============================] - 15s 1s/step - loss: 19096.5664 - accuracy: 0.0000e+00 - val_loss: 17599.6426 - val_accuracy: 0.0000e+00\n",
      "Epoch 16/40\n",
      "10/10 [==============================] - 15s 1s/step - loss: 14560.5850 - accuracy: 0.0000e+00 - val_loss: 16989.2148 - val_accuracy: 0.0000e+00\n",
      "Epoch 17/40\n",
      "10/10 [==============================] - 14s 1s/step - loss: 12240.4941 - accuracy: 0.0000e+00 - val_loss: 12816.3945 - val_accuracy: 0.0000e+00\n",
      "Epoch 18/40\n",
      "10/10 [==============================] - 16s 2s/step - loss: 7976.7368 - accuracy: 0.0000e+00 - val_loss: 4813.0532 - val_accuracy: 0.0000e+00\n",
      "Epoch 19/40\n",
      "10/10 [==============================] - 16s 2s/step - loss: 3730.7844 - accuracy: 0.0000e+00 - val_loss: 2710.8647 - val_accuracy: 0.0000e+00\n",
      "Epoch 20/40\n",
      "10/10 [==============================] - 15s 2s/step - loss: 2332.4622 - accuracy: 0.0000e+00 - val_loss: 876.3679 - val_accuracy: 0.0000e+00\n",
      "Epoch 21/40\n",
      "10/10 [==============================] - 15s 2s/step - loss: 1157.3853 - accuracy: 0.0000e+00 - val_loss: 1402.0298 - val_accuracy: 0.0000e+00\n",
      "Epoch 22/40\n",
      "10/10 [==============================] - 16s 2s/step - loss: 854.3049 - accuracy: 0.0000e+00 - val_loss: 457.8424 - val_accuracy: 0.0000e+00\n",
      "Epoch 23/40\n",
      "10/10 [==============================] - 17s 2s/step - loss: 659.0475 - accuracy: 0.0000e+00 - val_loss: 609.7156 - val_accuracy: 0.0000e+00\n",
      "Epoch 24/40\n",
      "10/10 [==============================] - 16s 2s/step - loss: 413.3961 - accuracy: 0.0000e+00 - val_loss: 234.5519 - val_accuracy: 0.0000e+00\n",
      "Epoch 25/40\n",
      "10/10 [==============================] - 16s 2s/step - loss: 299.5044 - accuracy: 0.0000e+00 - val_loss: 536.2845 - val_accuracy: 0.0000e+00\n",
      "Epoch 26/40\n",
      "10/10 [==============================] - 16s 2s/step - loss: 332.1924 - accuracy: 0.0000e+00 - val_loss: 278.6304 - val_accuracy: 0.0000e+00\n",
      "Epoch 27/40\n",
      "10/10 [==============================] - 16s 2s/step - loss: 271.5570 - accuracy: 0.0000e+00 - val_loss: 137.0594 - val_accuracy: 0.0000e+00\n",
      "Epoch 28/40\n",
      "10/10 [==============================] - 19s 2s/step - loss: 137.0140 - accuracy: 0.0000e+00 - val_loss: 242.3275 - val_accuracy: 0.0000e+00\n",
      "Epoch 29/40\n",
      "10/10 [==============================] - 16s 2s/step - loss: 129.9383 - accuracy: 0.0000e+00 - val_loss: 114.2304 - val_accuracy: 0.0000e+00\n",
      "Epoch 30/40\n",
      "10/10 [==============================] - 15s 2s/step - loss: 125.4477 - accuracy: 0.0000e+00 - val_loss: 72.1375 - val_accuracy: 0.0000e+00\n",
      "Epoch 31/40\n",
      "10/10 [==============================] - 15s 2s/step - loss: 93.0683 - accuracy: 0.0000e+00 - val_loss: 26.8526 - val_accuracy: 0.0000e+00\n",
      "Epoch 32/40\n",
      "10/10 [==============================] - 16s 2s/step - loss: 32.9585 - accuracy: 0.0000e+00 - val_loss: 33.5744 - val_accuracy: 0.0000e+00\n",
      "Epoch 33/40\n",
      "10/10 [==============================] - 16s 2s/step - loss: 26.4995 - accuracy: 0.0000e+00 - val_loss: 15.1943 - val_accuracy: 0.0000e+00\n",
      "Epoch 34/40\n",
      "10/10 [==============================] - 16s 2s/step - loss: 15.0510 - accuracy: 0.0000e+00 - val_loss: 14.4338 - val_accuracy: 0.0000e+00\n",
      "Epoch 35/40\n",
      "10/10 [==============================] - 16s 2s/step - loss: 13.9452 - accuracy: 0.0000e+00 - val_loss: 11.4348 - val_accuracy: 0.0000e+00\n",
      "Epoch 36/40\n",
      "10/10 [==============================] - 16s 2s/step - loss: 14.2902 - accuracy: 0.0000e+00 - val_loss: 10.2336 - val_accuracy: 0.0000e+00\n",
      "Epoch 37/40\n",
      "10/10 [==============================] - 16s 2s/step - loss: 9.9338 - accuracy: 0.0000e+00 - val_loss: 7.9813 - val_accuracy: 0.0000e+00\n",
      "Epoch 38/40\n",
      "10/10 [==============================] - 16s 2s/step - loss: 5.5078 - accuracy: 0.0000e+00 - val_loss: 4.1604 - val_accuracy: 0.0000e+00\n",
      "Epoch 39/40\n",
      "10/10 [==============================] - 19s 2s/step - loss: 4.4471 - accuracy: 0.0000e+00 - val_loss: 2.8671 - val_accuracy: 0.0000e+00\n",
      "Epoch 40/40\n",
      "10/10 [==============================] - 19s 2s/step - loss: 2.6027 - accuracy: 0.0000e+00 - val_loss: 1.8585 - val_accuracy: 0.0000e+00\n"
     ]
    }
   ],
   "source": [
    "hist = model.fit(train, epochs=40, validation_data=val)"
   ]
  },
  {
   "cell_type": "code",
   "execution_count": 288,
   "metadata": {},
   "outputs": [
    {
     "name": "stderr",
     "output_type": "stream",
     "text": [
      "/Users/FranklinZhao/TensorFlowProjects/ImageBasedSneakerPrediction/.venv/lib/python3.11/site-packages/keras/src/engine/training.py:3000: UserWarning: You are saving your model as an HDF5 file via `model.save()`. This file format is considered legacy. We recommend using instead the native Keras format, e.g. `model.save('my_model.keras')`.\n",
      "  saving_api.save_model(\n"
     ]
    }
   ],
   "source": [
    "model.save(\"/Users/FranklinZhao/TensorFlowProjects/ImageBasedSneakerPrediction/models/model_1.h5\")"
   ]
  },
  {
   "cell_type": "code",
   "execution_count": null,
   "metadata": {},
   "outputs": [],
   "source": []
  }
 ],
 "metadata": {
  "kernelspec": {
   "display_name": ".venv",
   "language": "python",
   "name": "python3"
  },
  "language_info": {
   "codemirror_mode": {
    "name": "ipython",
    "version": 3
   },
   "file_extension": ".py",
   "mimetype": "text/x-python",
   "name": "python",
   "nbconvert_exporter": "python",
   "pygments_lexer": "ipython3",
   "version": "3.11.2"
  },
  "orig_nbformat": 4
 },
 "nbformat": 4,
 "nbformat_minor": 2
}
