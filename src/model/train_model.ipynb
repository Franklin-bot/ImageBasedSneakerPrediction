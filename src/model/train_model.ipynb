{
 "cells": [
  {
   "cell_type": "code",
   "execution_count": 120,
   "metadata": {},
   "outputs": [],
   "source": [
    "import numpy as np\n",
    "import pandas as pd\n",
    "import tensorflow as tf\n",
    "from keras.models import Sequential\n",
    "from keras.layers import Conv2D, MaxPooling2D, Dense, Flatten, InputLayer"
   ]
  },
  {
   "cell_type": "code",
   "execution_count": 281,
   "metadata": {},
   "outputs": [],
   "source": [
    "# load data\n",
    "images = np.load(\"/Users/FranklinZhao/TensorFlowProjects/ImageBasedSneakerPrediction/data/cleaned/images.npy\")\n",
    "prices = np.load(\"/Users/FranklinZhao/TensorFlowProjects/ImageBasedSneakerPrediction/data/cleaned/prices.npy\")\n",
    "\n",
    "data = tf.data.Dataset.from_tensor_slices((images, prices))"
   ]
  },
  {
   "cell_type": "code",
   "execution_count": 282,
   "metadata": {},
   "outputs": [],
   "source": [
    "# split data\n",
    "train_size = int(len(data)*.7)\n",
    "val_size = int(len(data)*.2)\n",
    "test_size = int(len(data)*.1)\n",
    "\n",
    "train = data.take(train_size)\n",
    "val = data.skip(train_size).take(val_size)\n",
    "test = data.skip(train_size+val_size).take(test_size)"
   ]
  },
  {
   "cell_type": "code",
   "execution_count": 283,
   "metadata": {},
   "outputs": [],
   "source": [
    "train = train.cache()\n",
    "train = train.shuffle(train_size)\n",
    "train = train.batch(80)\n",
    "train = train.prefetch(80)\n",
    "\n",
    "val = val.cache()\n",
    "val = val.shuffle(val_size)\n",
    "val = val.batch(80)\n",
    "val = val.prefetch(80)\n"
   ]
  },
  {
   "cell_type": "code",
   "execution_count": 284,
   "metadata": {},
   "outputs": [],
   "source": [
    "model = Sequential()\n",
    "\n",
    "model.add(Conv2D(16, (3,3), 1, activation='relu'))\n",
    "model.add(MaxPooling2D())\n",
    "\n",
    "model.add(Conv2D(32, (3,3), 1, activation='relu'))\n",
    "model.add(MaxPooling2D())\n",
    "\n",
    "model.add(Conv2D(64, (3,3), 1, activation='relu'))\n",
    "model.add(MaxPooling2D())\n",
    "\n",
    "model.add(Flatten())\n",
    "\n",
    "model.add(Dense(64, activation='relu'))\n",
    "model.add(Dense(128, activation='relu'))\n",
    "model.add(Dense(256, activation='relu'))\n",
    "model.add(Dense(128, activation='relu'))\n",
    "\n",
    "model.add(Dense(1))\n"
   ]
  },
  {
   "cell_type": "code",
   "execution_count": 285,
   "metadata": {},
   "outputs": [],
   "source": [
    "model.compile('adam', tf.losses.MeanSquaredError(), metrics=['accuracy'])"
   ]
  },
  {
   "cell_type": "code",
   "execution_count": 287,
   "metadata": {},
   "outputs": [
    {
     "name": "stdout",
     "output_type": "stream",
     "text": [
      "Model: \"sequential_52\"\n",
      "_________________________________________________________________\n",
      " Layer (type)                Output Shape              Param #   \n",
      "=================================================================\n",
      " conv2d_141 (Conv2D)         (None, 254, 254, 16)      448       \n",
      "                                                                 \n",
      " max_pooling2d_141 (MaxPool  (None, 127, 127, 16)      0         \n",
      " ing2D)                                                          \n",
      "                                                                 \n",
      " conv2d_142 (Conv2D)         (None, 125, 125, 32)      4640      \n",
      "                                                                 \n",
      " max_pooling2d_142 (MaxPool  (None, 62, 62, 32)        0         \n",
      " ing2D)                                                          \n",
      "                                                                 \n",
      " conv2d_143 (Conv2D)         (None, 60, 60, 64)        18496     \n",
      "                                                                 \n",
      " max_pooling2d_143 (MaxPool  (None, 30, 30, 64)        0         \n",
      " ing2D)                                                          \n",
      "                                                                 \n",
      " flatten_45 (Flatten)        (None, 57600)             0         \n",
      "                                                                 \n",
      " dense_177 (Dense)           (None, 64)                3686464   \n",
      "                                                                 \n",
      " dense_178 (Dense)           (None, 128)               8320      \n",
      "                                                                 \n",
      " dense_179 (Dense)           (None, 256)               33024     \n",
      "                                                                 \n",
      " dense_180 (Dense)           (None, 128)               32896     \n",
      "                                                                 \n",
      " dense_181 (Dense)           (None, 1)                 129       \n",
      "                                                                 \n",
      "=================================================================\n",
      "Total params: 3784417 (14.44 MB)\n",
      "Trainable params: 3784417 (14.44 MB)\n",
      "Non-trainable params: 0 (0.00 Byte)\n",
      "_________________________________________________________________\n"
     ]
    }
   ],
   "source": [
    "model.summary()"
   ]
  },
  {
   "cell_type": "code",
   "execution_count": 286,
   "metadata": {},
   "outputs": [
    {
     "name": "stdout",
     "output_type": "stream",
     "text": [
      "Epoch 1/40\n",
      "10/10 [==============================] - 19s 2s/step - loss: 460054.1562 - accuracy: 0.0000e+00 - val_loss: 291261.1250 - val_accuracy: 0.0000e+00\n",
      "Epoch 2/40\n",
      "10/10 [==============================] - 16s 2s/step - loss: 327698.4062 - accuracy: 0.0000e+00 - val_loss: 296124.1875 - val_accuracy: 0.0000e+00\n",
      "Epoch 3/40\n",
      "10/10 [==============================] - 17s 2s/step - loss: 307478.8438 - accuracy: 0.0000e+00 - val_loss: 290951.6875 - val_accuracy: 0.0000e+00\n",
      "Epoch 4/40\n",
      "10/10 [==============================] - 16s 2s/step - loss: 289471.3750 - accuracy: 0.0000e+00 - val_loss: 281929.2812 - val_accuracy: 0.0000e+00\n",
      "Epoch 5/40\n",
      "10/10 [==============================] - 17s 2s/step - loss: 284111.2500 - accuracy: 0.0000e+00 - val_loss: 269646.7812 - val_accuracy: 0.0000e+00\n",
      "Epoch 6/40\n",
      "10/10 [==============================] - 16s 2s/step - loss: 264122.6250 - accuracy: 0.0000e+00 - val_loss: 302678.5312 - val_accuracy: 0.0000e+00\n",
      "Epoch 7/40\n",
      "10/10 [==============================] - 16s 2s/step - loss: 263852.3438 - accuracy: 0.0000e+00 - val_loss: 222999.5781 - val_accuracy: 0.0000e+00\n",
      "Epoch 8/40\n",
      "10/10 [==============================] - 16s 2s/step - loss: 208171.5156 - accuracy: 0.0000e+00 - val_loss: 199069.1562 - val_accuracy: 0.0000e+00\n",
      "Epoch 9/40\n",
      "10/10 [==============================] - 16s 2s/step - loss: 187015.4688 - accuracy: 0.0000e+00 - val_loss: 159053.0156 - val_accuracy: 0.0000e+00\n",
      "Epoch 10/40\n",
      "10/10 [==============================] - 16s 2s/step - loss: 139795.6719 - accuracy: 0.0000e+00 - val_loss: 134532.7188 - val_accuracy: 0.0000e+00\n",
      "Epoch 11/40\n",
      "10/10 [==============================] - 16s 2s/step - loss: 100783.6250 - accuracy: 0.0000e+00 - val_loss: 77201.5547 - val_accuracy: 0.0000e+00\n",
      "Epoch 12/40\n",
      "10/10 [==============================] - 16s 2s/step - loss: 63323.3008 - accuracy: 0.0000e+00 - val_loss: 57611.5820 - val_accuracy: 0.0000e+00\n",
      "Epoch 13/40\n",
      "10/10 [==============================] - 16s 2s/step - loss: 46922.2578 - accuracy: 0.0000e+00 - val_loss: 45421.3086 - val_accuracy: 0.0000e+00\n",
      "Epoch 14/40\n",
      "10/10 [==============================] - 16s 2s/step - loss: 34635.2148 - accuracy: 0.0000e+00 - val_loss: 32938.2773 - val_accuracy: 0.0000e+00\n",
      "Epoch 15/40\n",
      "10/10 [==============================] - 16s 2s/step - loss: 27084.8652 - accuracy: 0.0000e+00 - val_loss: 23386.7461 - val_accuracy: 0.0000e+00\n",
      "Epoch 16/40\n",
      "10/10 [==============================] - 16s 2s/step - loss: 19077.8848 - accuracy: 0.0000e+00 - val_loss: 17308.7578 - val_accuracy: 0.0000e+00\n",
      "Epoch 17/40\n",
      "10/10 [==============================] - 16s 2s/step - loss: 11245.2295 - accuracy: 0.0000e+00 - val_loss: 9450.6611 - val_accuracy: 0.0000e+00\n",
      "Epoch 18/40\n",
      "10/10 [==============================] - 16s 2s/step - loss: 7303.3584 - accuracy: 0.0000e+00 - val_loss: 19312.5137 - val_accuracy: 0.0000e+00\n",
      "Epoch 19/40\n",
      "10/10 [==============================] - 16s 2s/step - loss: 7529.4292 - accuracy: 0.0000e+00 - val_loss: 2965.4402 - val_accuracy: 0.0000e+00\n",
      "Epoch 20/40\n",
      "10/10 [==============================] - 17s 2s/step - loss: 2137.5623 - accuracy: 0.0000e+00 - val_loss: 1209.4487 - val_accuracy: 0.0000e+00\n",
      "Epoch 21/40\n",
      "10/10 [==============================] - 16s 2s/step - loss: 983.9377 - accuracy: 0.0000e+00 - val_loss: 760.9286 - val_accuracy: 0.0000e+00\n",
      "Epoch 22/40\n",
      "10/10 [==============================] - 16s 2s/step - loss: 529.1289 - accuracy: 0.0000e+00 - val_loss: 1647.2089 - val_accuracy: 0.0000e+00\n",
      "Epoch 23/40\n",
      "10/10 [==============================] - 16s 2s/step - loss: 871.0205 - accuracy: 0.0000e+00 - val_loss: 385.5005 - val_accuracy: 0.0000e+00\n",
      "Epoch 24/40\n",
      "10/10 [==============================] - 17s 2s/step - loss: 336.8881 - accuracy: 0.0000e+00 - val_loss: 242.7749 - val_accuracy: 0.0000e+00\n",
      "Epoch 25/40\n",
      "10/10 [==============================] - 17s 2s/step - loss: 180.7043 - accuracy: 0.0000e+00 - val_loss: 133.0312 - val_accuracy: 0.0000e+00\n",
      "Epoch 26/40\n",
      "10/10 [==============================] - 17s 2s/step - loss: 116.1665 - accuracy: 0.0000e+00 - val_loss: 74.5338 - val_accuracy: 0.0000e+00\n",
      "Epoch 27/40\n",
      "10/10 [==============================] - 17s 2s/step - loss: 61.9707 - accuracy: 0.0000e+00 - val_loss: 53.2889 - val_accuracy: 0.0000e+00\n",
      "Epoch 28/40\n",
      "10/10 [==============================] - 17s 2s/step - loss: 38.3841 - accuracy: 0.0000e+00 - val_loss: 26.3997 - val_accuracy: 0.0000e+00\n",
      "Epoch 29/40\n",
      "10/10 [==============================] - 17s 2s/step - loss: 23.5517 - accuracy: 0.0000e+00 - val_loss: 14.3434 - val_accuracy: 0.0000e+00\n",
      "Epoch 30/40\n",
      "10/10 [==============================] - 18s 2s/step - loss: 14.1689 - accuracy: 0.0000e+00 - val_loss: 12.9273 - val_accuracy: 0.0000e+00\n",
      "Epoch 31/40\n",
      "10/10 [==============================] - 18s 2s/step - loss: 11.3678 - accuracy: 0.0000e+00 - val_loss: 9.2856 - val_accuracy: 0.0000e+00\n",
      "Epoch 32/40\n",
      "10/10 [==============================] - 18s 2s/step - loss: 7.7419 - accuracy: 0.0000e+00 - val_loss: 5.9845 - val_accuracy: 0.0000e+00\n",
      "Epoch 33/40\n",
      "10/10 [==============================] - 17s 2s/step - loss: 6.3095 - accuracy: 0.0000e+00 - val_loss: 6.6383 - val_accuracy: 0.0000e+00\n",
      "Epoch 34/40\n",
      "10/10 [==============================] - 16s 2s/step - loss: 5.2684 - accuracy: 0.0000e+00 - val_loss: 5.2286 - val_accuracy: 0.0000e+00\n",
      "Epoch 35/40\n",
      "10/10 [==============================] - 16s 2s/step - loss: 3.2917 - accuracy: 0.0000e+00 - val_loss: 1.5997 - val_accuracy: 0.0000e+00\n",
      "Epoch 36/40\n",
      "10/10 [==============================] - 16s 2s/step - loss: 1.6711 - accuracy: 0.0000e+00 - val_loss: 1.2344 - val_accuracy: 0.0000e+00\n",
      "Epoch 37/40\n",
      "10/10 [==============================] - 16s 2s/step - loss: 1.2715 - accuracy: 0.0000e+00 - val_loss: 1.2252 - val_accuracy: 0.0000e+00\n",
      "Epoch 38/40\n",
      "10/10 [==============================] - 16s 2s/step - loss: 1.0379 - accuracy: 0.0000e+00 - val_loss: 1.3133 - val_accuracy: 0.0000e+00\n",
      "Epoch 39/40\n",
      "10/10 [==============================] - 16s 2s/step - loss: 0.9803 - accuracy: 0.0000e+00 - val_loss: 1.5708 - val_accuracy: 0.0000e+00\n",
      "Epoch 40/40\n",
      "10/10 [==============================] - 16s 2s/step - loss: 0.9331 - accuracy: 0.0000e+00 - val_loss: 1.7084 - val_accuracy: 0.0000e+00\n"
     ]
    }
   ],
   "source": [
    "hist = model.fit(train, epochs=40, validation_data=val)"
   ]
  },
  {
   "cell_type": "code",
   "execution_count": null,
   "metadata": {},
   "outputs": [],
   "source": []
  },
  {
   "cell_type": "code",
   "execution_count": null,
   "metadata": {},
   "outputs": [],
   "source": []
  }
 ],
 "metadata": {
  "kernelspec": {
   "display_name": ".venv",
   "language": "python",
   "name": "python3"
  },
  "language_info": {
   "codemirror_mode": {
    "name": "ipython",
    "version": 3
   },
   "file_extension": ".py",
   "mimetype": "text/x-python",
   "name": "python",
   "nbconvert_exporter": "python",
   "pygments_lexer": "ipython3",
   "version": "3.11.2"
  },
  "orig_nbformat": 4
 },
 "nbformat": 4,
 "nbformat_minor": 2
}
